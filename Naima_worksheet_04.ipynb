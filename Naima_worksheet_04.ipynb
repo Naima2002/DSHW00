{
 "cells": [
  {
   "attachments": {},
   "cell_type": "markdown",
   "metadata": {},
   "source": [
    "# Worksheet 04\n",
    "\n",
    "Name:  Naima Abrar Shami\n",
    "UID: U04989541\n",
    "\n",
    "### Topics\n",
    "\n",
    "- Distance & Similarity"
   ]
  },
  {
   "cell_type": "markdown",
   "metadata": {},
   "source": [
    "### Distance & Similarity\n",
    "\n",
    "#### Part 1\n",
    "\n",
    "a) In the minkowski distance, describe what the parameters p and d are."
   ]
  },
  {
   "cell_type": "markdown",
   "metadata": {},
   "source": [
    "d is the dimension and when p=1 the formula would be that of manhattan distance and when it is 2, it will be that of euclidean distance"
   ]
  },
  {
   "cell_type": "markdown",
   "metadata": {},
   "source": [
    "b) In your own words describe the difference between the Euclidean distance and the Manhattan distance."
   ]
  },
  {
   "cell_type": "markdown",
   "metadata": {},
   "source": [
    "euclidean distance is the shortest distance between two points\n",
    "manhattan distance is the total sum of the difference between the x and y coordinates of each point"
   ]
  },
  {
   "attachments": {},
   "cell_type": "markdown",
   "metadata": {},
   "source": [
    "Consider A = (0, 0) and B = (1, 1). When:\n",
    "\n",
    "- p = 1, d(A, B) = 2\n",
    "- p = 2, d(A, B) = $\\sqrt{2} = 1.41$\n",
    "- p = 3, d(A, B) = $2^{1/3} = 1.26$\n",
    "- p = 4, d(A, B) = $2^{1/4} = 1.19$\n",
    "\n",
    "c) Describe what you think distance would look like when p is very large."
   ]
  },
  {
   "cell_type": "markdown",
   "metadata": {},
   "source": [
    "\n",
    "The minkowski distance will be = (|x1-x2|^p + |y1-y2|^p)^1/p\n",
    "when A = (0,0) and B = (1,1), the equation will become\n",
    "\n",
    "(1^p + 1^p)^p = (2^p)^1/p\n",
    "when p is substituted with the value of 1, the equation becomes equal to 2\n",
    "The equation is 2^(1/p)\n",
    "Hecne when p becomes very large, value becomes 2^(1/inf) and the exponent approaches to 0 and 2^0 is 1.\n",
    "When p is very large, the value approaches 1.\n"
   ]
  },
  {
   "cell_type": "markdown",
   "metadata": {},
   "source": [
    "d) Is the minkowski distance still a distance function when p < 1? Expain why / why not."
   ]
  },
  {
   "cell_type": "markdown",
   "metadata": {},
   "source": [
    "No it is not. It does not satisfy the traingle inequality when 0<p<1 and that renders the distance function not applicable"
   ]
  },
  {
   "cell_type": "markdown",
   "metadata": {},
   "source": [
    "e) when would you use cosine similarity over the euclidan distance?"
   ]
  },
  {
   "cell_type": "markdown",
   "metadata": {},
   "source": [
    "\n",
    "\n",
    "cosine similarity is greater when vectors point in a similar direction in a vector space. When doing natural language processing, word vectors are created and the direction in which they point in is more significant than their magnitudes. Also, these vectors can contain many zeros and this would impact the euclidean distance more than the cosine similarity. In cases like these, things can seem closer in euclidean and far in cosin"
   ]
  },
  {
   "cell_type": "markdown",
   "metadata": {},
   "source": [
    "f) what does the jaccard distance account for that the manhattan distance doesn't?"
   ]
  },
  {
   "cell_type": "markdown",
   "metadata": {},
   "source": [
    "\n",
    "\n",
    "manhattan distance measures the absolute difference between 2 coordinates. Jaccard distance sees the dissimilarity between sets i.e in two binary sets. Manhattan distance computes the same distance where the two vectors differ i.e one has a 1 and the other has a 0. Jaccard outputs a different distance and sees the intersection.\n"
   ]
  },
  {
   "attachments": {},
   "cell_type": "markdown",
   "metadata": {},
   "source": [
    "#### Part 2\n",
    "\n",
    "Consider the following two sentences:"
   ]
  },
  {
   "cell_type": "code",
   "execution_count": 2,
   "metadata": {},
   "outputs": [],
   "source": [
    "s1 = \"hello my name is Alice\"  \n",
    "s2 = \"hello my name is Bob\""
   ]
  },
  {
   "cell_type": "markdown",
   "metadata": {},
   "source": [
    "using the union of words from both sentences, we can represent each sentence as a vector. Each element of the vector represents the presence or absence of the word at that index.\n",
    "\n",
    "In this example, the union of words is (\"hello\", \"my\", \"name\", \"is\", \"Alice\", \"Bob\") so we can represent the above sentences as such:"
   ]
  },
  {
   "cell_type": "code",
   "execution_count": 3,
   "metadata": {},
   "outputs": [],
   "source": [
    "v1 = [1,    1, 1,   1, 1,    0]\n",
    "#     hello my name is Alice\n",
    "v2 = [1,    1, 1,   1, 0, 1]\n",
    "#     hello my name is    Bob"
   ]
  },
  {
   "attachments": {},
   "cell_type": "markdown",
   "metadata": {},
   "source": [
    "Programmatically, we can do the following:"
   ]
  },
  {
   "cell_type": "code",
   "execution_count": 4,
   "metadata": {},
   "outputs": [
    {
     "name": "stdout",
     "output_type": "stream",
     "text": [
      "['hello', 'is', 'Bob', 'name', 'my', 'Alice']\n",
      "[1, 1, 0, 1, 1, 1]\n"
     ]
    }
   ],
   "source": [
    "corpus = [s1, s2]\n",
    "all_words = list(set([item for x in corpus for item in x.split()]))\n",
    "print(all_words)\n",
    "v1 = [1 if x in s1 else 0 for x in all_words]\n",
    "print(v1)"
   ]
  },
  {
   "cell_type": "markdown",
   "metadata": {},
   "source": [
    "Let's add a new sentence to our corpus:"
   ]
  },
  {
   "cell_type": "code",
   "execution_count": 5,
   "metadata": {},
   "outputs": [],
   "source": [
    "s3 = \"hi my name is Claude\"\n",
    "corpus.append(s3)"
   ]
  },
  {
   "cell_type": "markdown",
   "metadata": {},
   "source": [
    "a) What is the new union of words used to represent s1, s2, and s3?"
   ]
  },
  {
   "cell_type": "code",
   "execution_count": 6,
   "metadata": {},
   "outputs": [
    {
     "name": "stdout",
     "output_type": "stream",
     "text": [
      "['hello', 'Claude', 'is', 'Bob', 'name', 'my', 'hi', 'Alice']\n"
     ]
    }
   ],
   "source": [
    "corpus = [s1, s2,s3]\n",
    "all_words = list(set([item for x in corpus for item in x.split()]))\n",
    "print(all_words)"
   ]
  },
  {
   "attachments": {},
   "cell_type": "markdown",
   "metadata": {},
   "source": [
    "b) Represent s1, s2, and s3 as vectors as above, using this new set of words."
   ]
  },
  {
   "cell_type": "code",
   "execution_count": 7,
   "metadata": {},
   "outputs": [
    {
     "name": "stdout",
     "output_type": "stream",
     "text": [
      "[1, 0, 1, 0, 1, 1, 0, 1]\n",
      "[1, 0, 1, 1, 1, 1, 0, 0]\n",
      "[0, 1, 1, 0, 1, 1, 1, 0]\n"
     ]
    }
   ],
   "source": [
    "v1 = [1 if x in s1 else 0 for x in all_words]\n",
    "print(v1)\n",
    "\n",
    "v2 = [1 if x in s2 else 0 for x in all_words]\n",
    "print(v2)\n",
    "\n",
    "v3 = [1 if x in s3 else 0 for x in all_words]\n",
    "print(v3)"
   ]
  },
  {
   "cell_type": "markdown",
   "metadata": {},
   "source": [
    "c) Write a function that computes the manhattan distance between two vectors. Which pair of vectors are the most similar under that distance function?"
   ]
  },
  {
   "cell_type": "code",
   "execution_count": 33,
   "metadata": {},
   "outputs": [
    {
     "name": "stdout",
     "output_type": "stream",
     "text": [
      "manhattan for v1 and v2:  2.0\n",
      "manhattan for v2 and v3:  4.0\n",
      "manhattan for v1 and v2:  4.0\n"
     ]
    }
   ],
   "source": [
    "def minkowski(x,y,p):\n",
    "    if p<1:\n",
    "        raise ValueError(\"p cant be less than one\")\n",
    "    if (len(x)!=len(y)):\n",
    "        raise ValueError(\"must be the same length\")\n",
    "    result = 0\n",
    "    for i in range(len(x)):\n",
    "        result+= abs(x[i]-y[i])**p\n",
    "    return (result**(1/p))\n",
    "\n",
    "x=v1\n",
    "y=v2\n",
    "man = minkowski(x,y,1)\n",
    "print(\"manhattan for v1 and v2: \", man)\n",
    "\n",
    "x2=v2\n",
    "y2=v3\n",
    "man2 = minkowski(x2,y2,1)\n",
    "print(\"manhattan for v2 and v3: \", man2)\n",
    "\n",
    "x3=v1\n",
    "y3=v3\n",
    "man3 = minkowski(x3,y3,1)\n",
    "print(\"manhattan for v1 and v2: \", man3)\n",
    "\n",
    "#v1 and v2 are the most similar under the distance function"
   ]
  },
  {
   "cell_type": "markdown",
   "metadata": {},
   "source": []
  },
  {
   "cell_type": "markdown",
   "metadata": {},
   "source": [
    "d) Create a matrix of all these vectors (row major) and add the following sentences in vector form:\n",
    "\n",
    "- \"hi Alice\"\n",
    "- \"hello Claude\"\n",
    "- \"Bob my name is Claude\"\n",
    "- \"hi Claude my name is Alice\"\n",
    "- \"hello Bob\""
   ]
  },
  {
   "cell_type": "code",
   "execution_count": 34,
   "metadata": {},
   "outputs": [
    {
     "name": "stdout",
     "output_type": "stream",
     "text": [
      "[[0, 1, 0, 0, 0, 0, 1, 0], [1, 0, 0, 0, 0, 0, 0, 1], [1, 0, 1, 1, 1, 1, 0, 0], [1, 1, 1, 0, 1, 1, 1, 0], [0, 0, 0, 1, 0, 0, 0, 1]]\n"
     ]
    }
   ],
   "source": [
    "corpus = [\"hi Alice\", \"hello Claude\", \"Bob my name is Claude\", \"hi Claude my name is Alice\", \"hello Bob\"]\n",
    "#extract vectors for each doc in the corpus\n",
    "all_words = list(set([item for x in corpus for item in x.split()]))\n",
    "matrix = [[1 if word in sentence else 0 for word in all_words]for sentence in corpus]\n",
    "total = []\n",
    "for vector in matrix:\n",
    "    total.append(vector)\n",
    "\n",
    "print(total)"
   ]
  },
  {
   "cell_type": "markdown",
   "metadata": {},
   "source": [
    "e) How many rows and columns does this matrix have?"
   ]
  },
  {
   "cell_type": "code",
   "execution_count": 27,
   "metadata": {},
   "outputs": [
    {
     "name": "stdout",
     "output_type": "stream",
     "text": [
      "num of rows:  5\n",
      "num of columns:  8\n"
     ]
    }
   ],
   "source": [
    "print(\"num of rows: \",len(total))\n",
    "print(\"num of columns: \",len(total[0]))"
   ]
  },
  {
   "attachments": {},
   "cell_type": "markdown",
   "metadata": {},
   "source": [
    "f) When using the Manhattan distance, which two sentences are the most similar?"
   ]
  },
  {
   "cell_type": "code",
   "execution_count": 37,
   "metadata": {},
   "outputs": [
    {
     "name": "stdout",
     "output_type": "stream",
     "text": [
      "most similar sentences are  hello Claude   hello Bob\n"
     ]
    }
   ],
   "source": [
    "min = float('inf')\n",
    "s1 = \"\"\n",
    "s2 = \"\"\n",
    "for i in range(len(total)):\n",
    "    for j in range(i+1,len(total)):\n",
    "        dist = minkowski(total[i],total[j],1)\n",
    "        if dist<min:\n",
    "            min = dist\n",
    "            s1 = corpus[i]\n",
    "            s2 = corpus[j]\n",
    "\n",
    "print(\"most similar sentences are \", s1, \" \",s2)"
   ]
  },
  {
   "cell_type": "markdown",
   "metadata": {},
   "source": []
  }
 ],
 "metadata": {
  "kernelspec": {
   "display_name": "Python 3",
   "language": "python",
   "name": "python3"
  },
  "language_info": {
   "codemirror_mode": {
    "name": "ipython",
    "version": 3
   },
   "file_extension": ".py",
   "mimetype": "text/x-python",
   "name": "python",
   "nbconvert_exporter": "python",
   "pygments_lexer": "ipython3",
   "version": "3.9.6"
  },
  "orig_nbformat": 4,
  "vscode": {
   "interpreter": {
    "hash": "76ca05dc3ea24b2e3b98cdb7774adfbb40773424bf5109b477fd793f623715af"
   }
  }
 },
 "nbformat": 4,
 "nbformat_minor": 2
}
