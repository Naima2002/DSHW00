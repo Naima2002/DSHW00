{
  "cells": [
    {
      "cell_type": "markdown",
      "metadata": {
        "id": "o0CmrhHCk3yr"
      },
      "source": [
        "# Worksheet 08\n",
        "\n",
        "Name:  Naima Abrar\n",
        "UID: U04989541\n",
        "\n",
        "### Topics\n",
        "\n",
        "- Soft Clustering\n",
        "- Clustering Aggregation\n",
        "\n",
        "### Probability Review\n",
        "\n",
        "Read through [the following](https://medium.com/@gallettilance/overview-of-probability-3272b72c82c8)\n",
        "\n",
        "### Soft Clustering\n",
        "\n",
        "We generate 10 data points that come from a normal distribution with mean 5 and variance 1."
      ]
    },
    {
      "cell_type": "code",
      "execution_count": 1,
      "metadata": {
        "colab": {
          "base_uri": "https://localhost:8080/"
        },
        "id": "RbYBCKE5k3ys",
        "outputId": "f3b8df76-f1c5-457c-98a1-c684d1bc97ae"
      },
      "outputs": [
        {
          "output_type": "stream",
          "name": "stdout",
          "text": [
            "[4.116571839127025, 3.498876332011147, 5.574479013440579, 8.392027512234645, 4.502680660050708, 4.980143962090419, 2.870666097177706, 6.56473094983, 3.712224727220725, 6.221817586986688]\n"
          ]
        }
      ],
      "source": [
        "import random\n",
        "import numpy as np\n",
        "from sklearn.cluster import KMeans\n",
        "\n",
        "mean = 5\n",
        "stdev = 1\n",
        "\n",
        "s1 = np.random.normal(mean, stdev, 10).tolist()\n",
        "print(s1)"
      ]
    },
    {
      "cell_type": "markdown",
      "metadata": {
        "id": "eeKLpsfvk3yt"
      },
      "source": [
        "a) Generate 10 more data points, this time coming from a normal distribution with mean 8 and variance 1."
      ]
    },
    {
      "cell_type": "code",
      "execution_count": 2,
      "metadata": {
        "colab": {
          "base_uri": "https://localhost:8080/"
        },
        "id": "l1wKBcHMk3yt",
        "outputId": "c35df0b7-4129-49b7-de28-13bbc87aa3ad"
      },
      "outputs": [
        {
          "output_type": "stream",
          "name": "stdout",
          "text": [
            "[6.892493354496817, 7.949210115518857, 7.544017350458421, 7.888586505523621, 8.050807827390765, 7.56020300319763, 9.03279244505825, 6.488964962138527, 9.004882261362539, 6.536588691003165]\n"
          ]
        }
      ],
      "source": [
        "m2 = 8\n",
        "std2 = 1\n",
        "s2 = np.random.normal(m2, std2, 10).tolist()\n",
        "print(s2)"
      ]
    },
    {
      "cell_type": "markdown",
      "metadata": {
        "id": "Ven85D0uk3yt"
      },
      "source": [
        "b) Flip a fair coin 10 times. If the coin lands on H, then pick the last data point of `c1` and remove it from `c1`, if T then pick the last data point from `c2` and remove it from `c2`. Add these 10 points to a list called `data`."
      ]
    },
    {
      "cell_type": "code",
      "execution_count": 3,
      "metadata": {
        "colab": {
          "base_uri": "https://localhost:8080/"
        },
        "id": "8yApYhNPk3yt",
        "outputId": "d378777d-347e-49eb-c1e4-8d4c30fa9aac"
      },
      "outputs": [
        {
          "output_type": "stream",
          "name": "stdout",
          "text": [
            "[6.221817586986688, 3.712224727220725, 6.56473094983, 6.536588691003165, 9.004882261362539, 2.870666097177706, 4.980143962090419, 4.502680660050708, 6.488964962138527, 9.03279244505825]\n"
          ]
        }
      ],
      "source": [
        "c1 = s1\n",
        "c2 = s2\n",
        "data = []\n",
        "for i in range(10):\n",
        "    flip = random.choice([0, 1])\n",
        "    if flip == 0 and c1!=[]:\n",
        "        p1 = c1.pop()\n",
        "        data.append(p1)\n",
        "    elif flip == 1 and c2!=[]:\n",
        "        p2 = c2.pop()\n",
        "        data.append(p2)\n",
        "print(data)"
      ]
    },
    {
      "cell_type": "markdown",
      "metadata": {
        "id": "cTdRE8Dlk3yt"
      },
      "source": [
        "c) This `data` is a Gaussian Mixture Distribution with 2 mixture components. Over the next few questions we will walk through the GMM algorithm to see if we can uncover the parameters we used to generate this data. First, please list all these parameters of the GMM that created `data` and the values we know they have."
      ]
    },
    {
      "cell_type": "markdown",
      "metadata": {
        "id": "cSd9j1JBk3yt"
      },
      "source": [
        "Means 5,8\n",
        "number of components -> 2\n",
        "Data Points"
      ]
    },
    {
      "cell_type": "markdown",
      "metadata": {
        "id": "0YUtIULMk3yt"
      },
      "source": [
        "d) Let's assume there are two mixture components (note: we could plot the data and make the observation that there are two clusters). The EM algorithm asks us to start with a random `mean_j`, `variance_j`, `P(S_j)` for each component j. One method we could use to find sensible values for these is to apply K means with k=2 here.\n",
        "\n",
        "1. the centroids would be the estimates of the `mean_j`\n",
        "2. the intra-cluster variance could be the estimate of `variance_j`\n",
        "3. the proportion of points in each cluster could be the estimate of `P(S_j)`\n",
        "\n",
        "Go through this process and list the parameter estimates it gives. Are they close or far from the true values?"
      ]
    },
    {
      "cell_type": "code",
      "execution_count": 7,
      "metadata": {
        "colab": {
          "base_uri": "https://localhost:8080/"
        },
        "id": "7itc-xNjk3yu",
        "outputId": "41746d7f-efb7-4116-c59e-bd7faca43ffc"
      },
      "outputs": [
        {
          "output_type": "stream",
          "name": "stdout",
          "text": [
            "[6.8705160389184226, 7.804479932406963, 8.577020727889815, 7.561302831685851, 6.946107988533101]\n",
            "[5.494464399514581, 4.711346114107617, 4.303523597296517, 5.517542247358652, 4.911852887446327]\n",
            "P(S_1) = 0.5,  P(S_2) = 0.5\n",
            "mean_1 = 7.551885503886831,  mean_2 = 4.987745849144739\n",
            "var_1 = 0.3892051209546817,  var_2 = 0.21755291158750975\n"
          ]
        },
        {
          "output_type": "stream",
          "name": "stderr",
          "text": [
            "/usr/local/lib/python3.10/dist-packages/sklearn/cluster/_kmeans.py:870: FutureWarning: The default value of `n_init` will change from 10 to 'auto' in 1.4. Set the value of `n_init` explicitly to suppress the warning\n",
            "  warnings.warn(\n"
          ]
        }
      ],
      "source": [
        "kmeans = KMeans(2, init='k-means++').fit(X=np.array(data).reshape(-1, 1))\n",
        "\n",
        "s1 = [x[0] for x in filter(lambda x: x[1] == 0, zip(data, kmeans.labels_))]\n",
        "print(s1)\n",
        "s2 = [x[0] for x in filter(lambda x: x[1] == 1, zip(data, kmeans.labels_))]\n",
        "print(s2)\n",
        "\n",
        "prob_s = [len(s1)/(len(s1)+len(s2)),len(s2)/(len(s1)+len(s2))]\n",
        "mean = [sum(s1)/len(s1), sum(s2)/len(s2)]\n",
        "var = [ sum(map(lambda x : (x - mean[0])**2, s1)) / len(s1),sum(map(lambda x: (x - mean[1])**2, s2)) / len(s2)]\n",
        "\n",
        "print(\"P(S_1) = \" + str(prob_s[0]) + \",  P(S_2) = \" + str(prob_s[1]))\n",
        "print(\"mean_1 = \" + str(mean[0]) + \",  mean_2 = \" + str(mean[1]))\n",
        "print(\"var_1 = \" + str(var[0]) + \",  var_2 = \" + str(var[1]))"
      ]
    },
    {
      "cell_type": "markdown",
      "metadata": {
        "id": "BeG8r7l6k3yu"
      },
      "source": [
        "the estimated probabilities do match the true values. The estimated variane, though, is a bit lower than the actual variance"
      ]
    },
    {
      "cell_type": "markdown",
      "metadata": {
        "id": "sWJMZre9k3yu"
      },
      "source": [
        "e) For each data point, compute `P(S_j | X_i)`. Comment on which cluster you think each point belongs to based on the estimated probabilities. How does that compare to the truth?"
      ]
    },
    {
      "cell_type": "code",
      "execution_count": 8,
      "metadata": {
        "colab": {
          "base_uri": "https://localhost:8080/"
        },
        "id": "0TrFlBfck3yu",
        "outputId": "95dc510a-716c-4285-9159-aa13c14ab65b"
      },
      "outputs": [
        {
          "output_type": "stream",
          "name": "stdout",
          "text": [
            "point =  5.494464399514581\n",
            "probability of observing that point if it came from cluster 0 =  8.765143063039603e-07\n",
            "probability of observing that point if it came from cluster 1 =  0.12170554294348689\n",
            "point =  4.711346114107617\n",
            "probability of observing that point if it came from cluster 0 =  2.7817253404720784e-12\n",
            "probability of observing that point if it came from cluster 1 =  0.818155195068371\n",
            "point =  4.303523597296517\n",
            "probability of observing that point if it came from cluster 0 =  7.667676020240167e-16\n",
            "probability of observing that point if it came from cluster 1 =  0.013044312695383673\n",
            "point =  5.517542247358652\n",
            "probability of observing that point if it came from cluster 0 =  1.1970795129255922e-06\n",
            "probability of observing that point if it came from cluster 1 =  0.0945284784162988\n",
            "point =  4.911852887446327\n",
            "probability of observing that point if it came from cluster 0 =  1.0461017728546129e-10\n",
            "probability of observing that point if it came from cluster 1 =  1.7255176417429263\n",
            "point =  6.8705160389184226\n",
            "probability of observing that point if it came from cluster 0 =  0.22141615398983436\n",
            "probability of observing that point if it came from cluster 1 =  9.992015795843887e-17\n",
            "point =  7.804479932406963\n",
            "probability of observing that point if it came from cluster 0 =  0.8303642901276584\n",
            "probability of observing that point if it came from cluster 1 =  7.279510849052591e-37\n",
            "point =  8.577020727889815\n",
            "probability of observing that point if it came from cluster 0 =  0.031934845455856294\n",
            "probability of observing that point if it came from cluster 1 =  1.4337591325581499e-59\n",
            "point =  7.561302831685851\n",
            "probability of observing that point if it came from cluster 0 =  1.0247180557566729\n",
            "probability of observing that point if it came from cluster 1 =  7.517035489796277e-31\n",
            "point =  6.946107988533101\n",
            "probability of observing that point if it came from cluster 0 =  0.30527114922068893\n",
            "probability of observing that point if it came from cluster 1 =  4.650333368978396e-18\n",
            "5.494464399514581\n",
            "Probability of coming from S_1 = 7.20187406883602e-06\n",
            "Probability of coming from S_2 = 0.9999927981259312\n",
            "\n",
            "4.711346114107617\n",
            "Probability of coming from S_1 = 3.399997160966703e-12\n",
            "Probability of coming from S_2 = 0.9999999999965999\n",
            "\n",
            "4.303523597296517\n",
            "Probability of coming from S_1 = 5.878175569153041e-14\n",
            "Probability of coming from S_2 = 0.9999999999999413\n",
            "\n",
            "5.517542247358652\n",
            "Probability of coming from S_1 = 1.2663531389977431e-05\n",
            "Probability of coming from S_2 = 0.9999873364686099\n",
            "\n",
            "4.911852887446327\n",
            "Probability of coming from S_1 = 6.062538843326671e-11\n",
            "Probability of coming from S_2 = 0.9999999999393746\n",
            "\n",
            "6.8705160389184226\n",
            "Probability of coming from S_1 = 0.9999999999999994\n",
            "Probability of coming from S_2 = 4.512776333520198e-16\n",
            "\n",
            "7.804479932406963\n",
            "Probability of coming from S_1 = 1.0\n",
            "Probability of coming from S_2 = 8.766647284330416e-37\n",
            "\n",
            "8.577020727889815\n",
            "Probability of coming from S_1 = 1.0\n",
            "Probability of coming from S_2 = 4.489638550279013e-58\n",
            "\n",
            "7.561302831685851\n",
            "Probability of coming from S_1 = 1.0\n",
            "Probability of coming from S_2 = 7.335710976855525e-31\n",
            "\n",
            "6.946107988533101\n",
            "Probability of coming from S_1 = 1.0\n",
            "Probability of coming from S_2 = 1.523345190284111e-17\n",
            "\n"
          ]
        }
      ],
      "source": [
        "from scipy.stats import norm\n",
        "\n",
        "prob_s0_x = [] # P(S_0 | X_i)\n",
        "prob_s1_x = [] # P(S_1 | X_i)\n",
        "prob_x = [] # P(X_i)\n",
        "\n",
        "k = 2\n",
        "\n",
        "for p in data:\n",
        "    print(\"point = \", p)\n",
        "    pdf_i = []\n",
        "\n",
        "    for j in range(k):\n",
        "        # P(X_i | S_j)\n",
        "        pdf_i.append(norm.pdf(p, mean[j], var[j]))\n",
        "        print(\"probability of observing that point if it came from cluster \" + str(j) + \" = \", pdf_i[j])\n",
        "        # P(S_j) already computed\n",
        "        prob_s[j]\n",
        "\n",
        "    # P(X_i) = P(S_0)P(X_i | S_0) + P(S_1)P(X_i | S_1)\n",
        "    prob_x = prob_s[0] * pdf_i[0] + prob_s[1] * pdf_i[1]\n",
        "\n",
        "    # P(S_j | X_i) = P(X_i | S_j)P(S_j) / P(X_i)\n",
        "    prob_s0_x.append((pdf_i[0]*prob_s[0])/prob_x)\n",
        "    prob_s1_x.append((pdf_i[1]*prob_s[1])/prob_x)\n",
        "\n",
        "probs = zip(data, prob_s0_x, prob_s1_x)\n",
        "for p in probs:\n",
        "    print(p[0])\n",
        "    print(\"Probability of coming from S_1 = \" + str(p[1]))\n",
        "    print(\"Probability of coming from S_2 = \" + str(p[2]))\n",
        "    print()\n",
        "\n",
        "#the first 5 points have a high probbability of belinging to cluster 2\n",
        "#points with valuea above 6 belong to the other cluster\n"
      ]
    },
    {
      "cell_type": "markdown",
      "metadata": {
        "id": "Gc7gM-e8k3yu"
      },
      "source": [
        "f) Having computed `P(S_j | X_i)`, update the estimates of `mean_j`, `var_j`, and `P(S_j)`. How different are these values from the original ones you got from K means? briefly comment."
      ]
    },
    {
      "cell_type": "code",
      "execution_count": 9,
      "metadata": {
        "colab": {
          "base_uri": "https://localhost:8080/"
        },
        "id": "UzR4YRQLk3yu",
        "outputId": "00b2b871-0f53-479f-ad8d-89285c1db485"
      },
      "outputs": [
        {
          "output_type": "stream",
          "name": "stdout",
          "text": [
            "P(S_1) = 0.5,  P(S_2) = 0.5\n",
            "mean_1 = 7.551877388033618,  mean_2 = 4.987743777454323\n",
            "var_1 = 0.3892201533886599,  var_2 = 0.21755269521373272\n"
          ]
        }
      ],
      "source": [
        "prob_c = [sum(prob_s0_x)/ len(prob_s0_x),sum(prob_s1_x)/len(prob_s1_x)]\n",
        "mean = [sum([x[0] * x[1] for x in zip(prob_s0_x, data)]) / sum(prob_s0_x), sum([x[0]*x[1] for x in zip(prob_s1_x,data)])/sum(prob_s1_x) ]\n",
        "var = [sum([x[0] * (x[1] - mean[0])**2 for x in zip(prob_s0_x, data)])/sum(prob_s0_x),sum([x[0] * (x[1] - mean[1])**2 for x in zip(prob_s1_x, data)]) / sum(prob_s1_x)]\n",
        "\n",
        "print(\"P(S_1) = \" + str(prob_s[0]) + \",  P(S_2) = \" + str(prob_s[1]))\n",
        "print(\"mean_1 = \" + str(mean[0]) + \",  mean_2 = \" + str(mean[1]))\n",
        "print(\"var_1 = \" + str(var[0]) + \",  var_2 = \" + str(var[1]))"
      ]
    },
    {
      "cell_type": "markdown",
      "metadata": {
        "id": "HLz8nKqck3yu"
      },
      "source": [
        "teh updates values are very close to the values we started out with and this indicates that the clsutering was done quite accurately"
      ]
    },
    {
      "cell_type": "markdown",
      "metadata": {
        "id": "YD-jB2ayk3yu"
      },
      "source": [
        "g) Update `P(S_j | X_i)`. Comment on any differences or lack thereof you observe."
      ]
    },
    {
      "cell_type": "code",
      "execution_count": 11,
      "metadata": {
        "colab": {
          "base_uri": "https://localhost:8080/"
        },
        "id": "2BV6xH3Ok3yu",
        "outputId": "f7537bfc-180e-4a45-ed21-0f0935590107"
      },
      "outputs": [
        {
          "output_type": "stream",
          "name": "stdout",
          "text": [
            "point =  5.494464399514581\n",
            "probability of observing that point if it came from cluster 0 =  0.002781225965265126\n",
            "probability of observing that point if it came from cluster 1 =  0.4740679321720034\n",
            "point =  4.711346114107617\n",
            "probability of observing that point if it came from cluster 0 =  2.015130424504125e-05\n",
            "probability of observing that point if it came from cluster 1 =  0.7175869673662717\n",
            "point =  4.303523597296517\n",
            "probability of observing that point if it came from cluster 0 =  8.297096876494775e-07\n",
            "probability of observing that point if it came from cluster 1 =  0.2916373104053787\n",
            "point =  5.517542247358652\n",
            "probability of observing that point if it came from cluster 0 =  0.00313991859904908\n",
            "probability of observing that point if it came from cluster 1 =  0.44870874123406396\n",
            "point =  4.911852887446327\n",
            "probability of observing that point if it came from cluster 0 =  8.267549502242265e-05\n",
            "probability of observing that point if it came from cluster 1 =  0.8440713093182769\n",
            "point =  6.8705160389184226\n",
            "probability of observing that point if it came from cluster 0 =  0.35221181904358934\n",
            "probability of observing that point if it came from cluster 1 =  0.0002476868595806761\n",
            "point =  7.804479932406963\n",
            "probability of observing that point if it came from cluster 0 =  0.589133449506423\n",
            "probability of observing that point if it came from cluster 1 =  1.0301771514366784e-08\n",
            "point =  8.577020727889815\n",
            "probability of observing that point if it came from cluster 0 =  0.16576819669985876\n",
            "probability of observing that point if it came from cluster 1 =  1.1836648734706153e-13\n",
            "point =  7.561302831685851\n",
            "probability of observing that point if it came from cluster 0 =  0.6393855874648039\n",
            "probability of observing that point if it came from cluster 1 =  2.0953922595918112e-07\n",
            "point =  6.946107988533101\n",
            "probability of observing that point if it came from cluster 0 =  0.399104014469313\n",
            "probability of observing that point if it came from cluster 1 =  0.00012708231450289146\n",
            "5.494464399514581\n",
            "new probability of coming from S_1 = 0.005832506816473201\n",
            "newprobability of coming from S_2 = 0.9941674931835267\n",
            "\n",
            "4.711346114107617\n",
            "new probability of coming from S_1 = 2.8081249085676297e-05\n",
            "newprobability of coming from S_2 = 0.9999719187509143\n",
            "\n",
            "4.303523597296517\n",
            "new probability of coming from S_1 = 2.8449971849433485e-06\n",
            "newprobability of coming from S_2 = 0.9999971550028152\n",
            "\n",
            "5.517542247358652\n",
            "new probability of coming from S_1 = 0.0069490492684182925\n",
            "newprobability of coming from S_2 = 0.9930509507315817\n",
            "\n",
            "4.911852887446327\n",
            "new probability of coming from S_1 = 9.7938879054996e-05\n",
            "newprobability of coming from S_2 = 0.999902061120945\n",
            "\n",
            "6.8705160389184226\n",
            "new probability of coming from S_1 = 0.9992972615139264\n",
            "newprobability of coming from S_2 = 0.0007027384860736946\n",
            "\n",
            "7.804479932406963\n",
            "new probability of coming from S_1 = 0.9999999825136879\n",
            "newprobability of coming from S_2 = 1.748631204501736e-08\n",
            "\n",
            "8.577020727889815\n",
            "new probability of coming from S_1 = 0.9999999999992859\n",
            "newprobability of coming from S_2 = 7.140482294157565e-13\n",
            "\n",
            "7.561302831685851\n",
            "new probability of coming from S_1 = 0.9999996722804495\n",
            "newprobability of coming from S_2 = 3.277195504514162e-07\n",
            "\n",
            "6.946107988533101\n",
            "new probability of coming from S_1 = 0.9996816823250327\n",
            "newprobability of coming from S_2 = 0.0003183176749673553\n",
            "\n"
          ]
        }
      ],
      "source": [
        "#the probabilities are more accurate\n",
        "#the general assignments to the clusters largely remains the same\n",
        ""
      ]
    },
    {
      "cell_type": "markdown",
      "metadata": {
        "id": "2VmbRZNTk3yu"
      },
      "source": [
        "h) Use `P(S_j | X_i)` to create a hard assignment - label each point as belonging to a specific cluster (0 or 1)"
      ]
    },
    {
      "cell_type": "code",
      "execution_count": 12,
      "metadata": {
        "colab": {
          "base_uri": "https://localhost:8080/"
        },
        "id": "nYcq1kFVk3yu",
        "outputId": "951842b9-3b3c-4cf6-9f13-2593e2899391"
      },
      "outputs": [
        {
          "output_type": "stream",
          "name": "stdout",
          "text": [
            "Point 5.494464399514581 is assigned to cluster 1\n",
            "Point 4.711346114107617 is assigned to cluster 1\n",
            "Point 4.303523597296517 is assigned to cluster 1\n",
            "Point 5.517542247358652 is assigned to cluster 1\n",
            "Point 4.911852887446327 is assigned to cluster 1\n",
            "Point 6.8705160389184226 is assigned to cluster 0\n",
            "Point 7.804479932406963 is assigned to cluster 0\n",
            "Point 8.577020727889815 is assigned to cluster 0\n",
            "Point 7.561302831685851 is assigned to cluster 0\n",
            "Point 6.946107988533101 is assigned to cluster 0\n"
          ]
        }
      ],
      "source": [
        "for p0, p1, point in zip(new_prob_s0_x, new_prob_s1_x, data):\n",
        "    cluster = 0 if p0 > p1 else 1\n",
        "    print(f\"Point {point} is assigned to cluster {cluster}\")\n"
      ]
    }
  ],
  "metadata": {
    "kernelspec": {
      "display_name": "Python 3",
      "language": "python",
      "name": "python3"
    },
    "language_info": {
      "codemirror_mode": {
        "name": "ipython",
        "version": 3
      },
      "file_extension": ".py",
      "mimetype": "text/x-python",
      "name": "python",
      "nbconvert_exporter": "python",
      "pygments_lexer": "ipython3",
      "version": "3.11.1"
    },
    "orig_nbformat": 4,
    "vscode": {
      "interpreter": {
        "hash": "e7370f93d1d0cde622a1f8e1c04877d8463912d04d973331ad4851f04de6915a"
      }
    },
    "colab": {
      "provenance": []
    }
  },
  "nbformat": 4,
  "nbformat_minor": 0
}